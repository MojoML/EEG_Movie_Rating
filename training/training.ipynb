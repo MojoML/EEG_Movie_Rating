{
 "cells": [
  {
   "cell_type": "code",
   "execution_count": 1,
   "metadata": {},
   "outputs": [
    {
     "name": "stderr",
     "output_type": "stream",
     "text": [
      "C:\\Users\\mleon\\AppData\\Local\\Continuum\\anaconda3\\envs\\tf-gpu\\lib\\site-packages\\sklearn\\externals\\joblib\\__init__.py:15: FutureWarning: sklearn.externals.joblib is deprecated in 0.21 and will be removed in 0.23. Please import this functionality directly from joblib, which can be installed with: pip install joblib. If this warning is raised when loading pickled models, you may need to re-serialize those models with scikit-learn 0.21+.\n",
      "  warnings.warn(msg, category=FutureWarning)\n"
     ]
    }
   ],
   "source": [
    "%reload_ext autoreload\n",
    "%autoreload 2\n",
    "import pandas as pd\n",
    "import numpy as np\n",
    "from pathlib import Path\n",
    "\n",
    "from helpers import model1, model2, model3, filter_data, onehotencode, extract_features_data, simple_mlp, model4, conv"
   ]
  },
  {
   "cell_type": "code",
   "execution_count": 2,
   "metadata": {},
   "outputs": [],
   "source": [
    "import tensorflow as tf\n",
    "\n",
    "gpu_devices = tf.config.experimental.list_physical_devices('GPU')\n",
    "for device in gpu_devices: tf.config.experimental.set_memory_growth(device, True)"
   ]
  },
  {
   "cell_type": "code",
   "execution_count": 4,
   "metadata": {},
   "outputs": [
    {
     "data": {
      "text/plain": [
       "(WindowsPath('../data/training_data/respondent1_sensor_data.csv'),\n",
       " WindowsPath('../data/training_data/respondent1_label.csv'))"
      ]
     },
     "execution_count": 4,
     "metadata": {},
     "output_type": "execute_result"
    }
   ],
   "source": [
    "training_data_path = Path('..')/ 'data' / 'training_data' \n",
    "get_sensor_data = lambda x: training_data_path / 'respondent{}_sensor_data.csv'.format(x)\n",
    "get_label = lambda x: training_data_path /'respondent{}_label.csv'.format(x)\n",
    "\n",
    "get_sensor_data(1), get_label(1)"
   ]
  },
  {
   "cell_type": "markdown",
   "metadata": {},
   "source": [
    "## Read data"
   ]
  },
  {
   "cell_type": "code",
   "execution_count": 5,
   "metadata": {},
   "outputs": [],
   "source": [
    "num_respondents = 32\n",
    "data_dict = {}\n",
    "label_dict = {}\n",
    "for num in range(1, num_respondents+1):\n",
    "    data_dict['respondent_{}'.format(num)]  = pd.read_csv(get_sensor_data(num), index_col=[0,1])\n",
    "    label_dict['respondent_{}'.format(num)] = pd.read_csv(get_label(num), index_col=[0])"
   ]
  },
  {
   "cell_type": "code",
   "execution_count": 6,
   "metadata": {},
   "outputs": [
    {
     "data": {
      "text/html": [
       "<div>\n",
       "<style scoped>\n",
       "    .dataframe tbody tr th:only-of-type {\n",
       "        vertical-align: middle;\n",
       "    }\n",
       "\n",
       "    .dataframe tbody tr th {\n",
       "        vertical-align: top;\n",
       "    }\n",
       "\n",
       "    .dataframe thead th {\n",
       "        text-align: right;\n",
       "    }\n",
       "</style>\n",
       "<table border=\"1\" class=\"dataframe\">\n",
       "  <thead>\n",
       "    <tr style=\"text-align: right;\">\n",
       "      <th></th>\n",
       "      <th></th>\n",
       "      <th></th>\n",
       "      <th>POz (Raw)</th>\n",
       "      <th>Fz (Raw)</th>\n",
       "      <th>Cz (Raw)</th>\n",
       "      <th>C3 (Raw)</th>\n",
       "      <th>C4 (Raw)</th>\n",
       "      <th>F3 (Raw)</th>\n",
       "      <th>F4 (Raw)</th>\n",
       "      <th>P3 (Raw)</th>\n",
       "      <th>P4 (Raw)</th>\n",
       "    </tr>\n",
       "  </thead>\n",
       "  <tbody>\n",
       "    <tr>\n",
       "      <th rowspan=\"5\" valign=\"top\">respondent_1</th>\n",
       "      <th rowspan=\"5\" valign=\"top\">trailer_1</th>\n",
       "      <th>0</th>\n",
       "      <td>-2.176072</td>\n",
       "      <td>-3.730452</td>\n",
       "      <td>-6.648115</td>\n",
       "      <td>7.906390</td>\n",
       "      <td>7.838735</td>\n",
       "      <td>27.81043</td>\n",
       "      <td>-1.944833</td>\n",
       "      <td>4.576408</td>\n",
       "      <td>-0.719508</td>\n",
       "    </tr>\n",
       "    <tr>\n",
       "      <th>1</th>\n",
       "      <td>-17.308790</td>\n",
       "      <td>-19.317900</td>\n",
       "      <td>-24.012070</td>\n",
       "      <td>-3.379530</td>\n",
       "      <td>-9.873293</td>\n",
       "      <td>12.86720</td>\n",
       "      <td>-18.772840</td>\n",
       "      <td>0.447505</td>\n",
       "      <td>-16.476750</td>\n",
       "    </tr>\n",
       "    <tr>\n",
       "      <th>2</th>\n",
       "      <td>-17.308790</td>\n",
       "      <td>-19.317900</td>\n",
       "      <td>-24.012070</td>\n",
       "      <td>-3.379530</td>\n",
       "      <td>-9.873293</td>\n",
       "      <td>12.86720</td>\n",
       "      <td>-18.772840</td>\n",
       "      <td>0.447505</td>\n",
       "      <td>-16.476750</td>\n",
       "    </tr>\n",
       "    <tr>\n",
       "      <th>3</th>\n",
       "      <td>-17.308790</td>\n",
       "      <td>-19.317900</td>\n",
       "      <td>-24.012070</td>\n",
       "      <td>-3.379530</td>\n",
       "      <td>-9.873293</td>\n",
       "      <td>12.86720</td>\n",
       "      <td>-18.772840</td>\n",
       "      <td>0.447505</td>\n",
       "      <td>-16.476750</td>\n",
       "    </tr>\n",
       "    <tr>\n",
       "      <th>4</th>\n",
       "      <td>-16.074980</td>\n",
       "      <td>-19.023580</td>\n",
       "      <td>-28.106670</td>\n",
       "      <td>2.857648</td>\n",
       "      <td>-27.548620</td>\n",
       "      <td>17.50465</td>\n",
       "      <td>-29.356010</td>\n",
       "      <td>-0.545797</td>\n",
       "      <td>-4.480889</td>\n",
       "    </tr>\n",
       "  </tbody>\n",
       "</table>\n",
       "</div>"
      ],
      "text/plain": [
       "                          POz (Raw)   Fz (Raw)   Cz (Raw)  C3 (Raw)  \\\n",
       "respondent_1 trailer_1 0  -2.176072  -3.730452  -6.648115  7.906390   \n",
       "                       1 -17.308790 -19.317900 -24.012070 -3.379530   \n",
       "                       2 -17.308790 -19.317900 -24.012070 -3.379530   \n",
       "                       3 -17.308790 -19.317900 -24.012070 -3.379530   \n",
       "                       4 -16.074980 -19.023580 -28.106670  2.857648   \n",
       "\n",
       "                           C4 (Raw)  F3 (Raw)   F4 (Raw)  P3 (Raw)   P4 (Raw)  \n",
       "respondent_1 trailer_1 0   7.838735  27.81043  -1.944833  4.576408  -0.719508  \n",
       "                       1  -9.873293  12.86720 -18.772840  0.447505 -16.476750  \n",
       "                       2  -9.873293  12.86720 -18.772840  0.447505 -16.476750  \n",
       "                       3  -9.873293  12.86720 -18.772840  0.447505 -16.476750  \n",
       "                       4 -27.548620  17.50465 -29.356010 -0.545797  -4.480889  "
      ]
     },
     "metadata": {},
     "output_type": "display_data"
    },
    {
     "data": {
      "text/html": [
       "<div>\n",
       "<style scoped>\n",
       "    .dataframe tbody tr th:only-of-type {\n",
       "        vertical-align: middle;\n",
       "    }\n",
       "\n",
       "    .dataframe tbody tr th {\n",
       "        vertical-align: top;\n",
       "    }\n",
       "\n",
       "    .dataframe thead th {\n",
       "        text-align: right;\n",
       "    }\n",
       "</style>\n",
       "<table border=\"1\" class=\"dataframe\">\n",
       "  <thead>\n",
       "    <tr style=\"text-align: right;\">\n",
       "      <th></th>\n",
       "      <th></th>\n",
       "      <th>labels</th>\n",
       "    </tr>\n",
       "  </thead>\n",
       "  <tbody>\n",
       "    <tr>\n",
       "      <th rowspan=\"6\" valign=\"top\">respondent_1</th>\n",
       "      <th>trailer_1</th>\n",
       "      <td>9.0</td>\n",
       "    </tr>\n",
       "    <tr>\n",
       "      <th>trailer_2</th>\n",
       "      <td>5.0</td>\n",
       "    </tr>\n",
       "    <tr>\n",
       "      <th>trailer_3</th>\n",
       "      <td>7.0</td>\n",
       "    </tr>\n",
       "    <tr>\n",
       "      <th>trailer_4</th>\n",
       "      <td>1.0</td>\n",
       "    </tr>\n",
       "    <tr>\n",
       "      <th>trailer_5</th>\n",
       "      <td>5.0</td>\n",
       "    </tr>\n",
       "    <tr>\n",
       "      <th>trailer_6</th>\n",
       "      <td>6.0</td>\n",
       "    </tr>\n",
       "    <tr>\n",
       "      <th rowspan=\"4\" valign=\"top\">respondent_2</th>\n",
       "      <th>trailer_1</th>\n",
       "      <td>6.0</td>\n",
       "    </tr>\n",
       "    <tr>\n",
       "      <th>trailer_2</th>\n",
       "      <td>8.0</td>\n",
       "    </tr>\n",
       "    <tr>\n",
       "      <th>trailer_3</th>\n",
       "      <td>6.0</td>\n",
       "    </tr>\n",
       "    <tr>\n",
       "      <th>trailer_4</th>\n",
       "      <td>6.0</td>\n",
       "    </tr>\n",
       "  </tbody>\n",
       "</table>\n",
       "</div>"
      ],
      "text/plain": [
       "                        labels\n",
       "respondent_1 trailer_1     9.0\n",
       "             trailer_2     5.0\n",
       "             trailer_3     7.0\n",
       "             trailer_4     1.0\n",
       "             trailer_5     5.0\n",
       "             trailer_6     6.0\n",
       "respondent_2 trailer_1     6.0\n",
       "             trailer_2     8.0\n",
       "             trailer_3     6.0\n",
       "             trailer_4     6.0"
      ]
     },
     "metadata": {},
     "output_type": "display_data"
    }
   ],
   "source": [
    "sensor_data = pd.concat(data_dict)\n",
    "display(sensor_data.head())\n",
    "\n",
    "labels = pd.concat(label_dict)\n",
    "display(labels.head(10))"
   ]
  },
  {
   "cell_type": "markdown",
   "metadata": {},
   "source": [
    "# Movie Rating Classification (2 Classes)"
   ]
  },
  {
   "cell_type": "code",
   "execution_count": 10,
   "metadata": {},
   "outputs": [],
   "source": [
    "tmp_labels = labels.copy()\n",
    "\n",
    "\n",
    "conditions = [tmp_labels[\"labels\"].isin([1,2,3,4,5]),\n",
    "             tmp_labels[\"labels\"].isin([6,7,8,9,10])]\n",
    "\n",
    "choices = [\"Dislike\", \"Like\"]\n",
    "\n",
    "tmp_labels['Label'] = np.select(conditions, choices)\n",
    "\n",
    "tmp_labels.drop(\"labels\", inplace=True, axis=1)"
   ]
  },
  {
   "cell_type": "code",
   "execution_count": 11,
   "metadata": {},
   "outputs": [
    {
     "data": {
      "text/html": [
       "<div>\n",
       "<style scoped>\n",
       "    .dataframe tbody tr th:only-of-type {\n",
       "        vertical-align: middle;\n",
       "    }\n",
       "\n",
       "    .dataframe tbody tr th {\n",
       "        vertical-align: top;\n",
       "    }\n",
       "\n",
       "    .dataframe thead th {\n",
       "        text-align: right;\n",
       "    }\n",
       "</style>\n",
       "<table border=\"1\" class=\"dataframe\">\n",
       "  <thead>\n",
       "    <tr style=\"text-align: right;\">\n",
       "      <th></th>\n",
       "      <th></th>\n",
       "      <th>Label</th>\n",
       "    </tr>\n",
       "  </thead>\n",
       "  <tbody>\n",
       "    <tr>\n",
       "      <th rowspan=\"5\" valign=\"top\">respondent_1</th>\n",
       "      <th>trailer_1</th>\n",
       "      <td>Like</td>\n",
       "    </tr>\n",
       "    <tr>\n",
       "      <th>trailer_2</th>\n",
       "      <td>Dislike</td>\n",
       "    </tr>\n",
       "    <tr>\n",
       "      <th>trailer_3</th>\n",
       "      <td>Like</td>\n",
       "    </tr>\n",
       "    <tr>\n",
       "      <th>trailer_4</th>\n",
       "      <td>Dislike</td>\n",
       "    </tr>\n",
       "    <tr>\n",
       "      <th>trailer_5</th>\n",
       "      <td>Dislike</td>\n",
       "    </tr>\n",
       "    <tr>\n",
       "      <th>...</th>\n",
       "      <th>...</th>\n",
       "      <td>...</td>\n",
       "    </tr>\n",
       "    <tr>\n",
       "      <th rowspan=\"5\" valign=\"top\">respondent_32</th>\n",
       "      <th>trailer_2</th>\n",
       "      <td>Dislike</td>\n",
       "    </tr>\n",
       "    <tr>\n",
       "      <th>trailer_3</th>\n",
       "      <td>Like</td>\n",
       "    </tr>\n",
       "    <tr>\n",
       "      <th>trailer_4</th>\n",
       "      <td>Dislike</td>\n",
       "    </tr>\n",
       "    <tr>\n",
       "      <th>trailer_5</th>\n",
       "      <td>Like</td>\n",
       "    </tr>\n",
       "    <tr>\n",
       "      <th>trailer_6</th>\n",
       "      <td>Like</td>\n",
       "    </tr>\n",
       "  </tbody>\n",
       "</table>\n",
       "<p>192 rows × 1 columns</p>\n",
       "</div>"
      ],
      "text/plain": [
       "                           Label\n",
       "respondent_1  trailer_1     Like\n",
       "              trailer_2  Dislike\n",
       "              trailer_3     Like\n",
       "              trailer_4  Dislike\n",
       "              trailer_5  Dislike\n",
       "...                          ...\n",
       "respondent_32 trailer_2  Dislike\n",
       "              trailer_3     Like\n",
       "              trailer_4  Dislike\n",
       "              trailer_5     Like\n",
       "              trailer_6     Like\n",
       "\n",
       "[192 rows x 1 columns]"
      ]
     },
     "execution_count": 11,
     "metadata": {},
     "output_type": "execute_result"
    }
   ],
   "source": [
    "tmp_labels"
   ]
  },
  {
   "cell_type": "code",
   "execution_count": 12,
   "metadata": {},
   "outputs": [
    {
     "data": {
      "text/html": [
       "<div>\n",
       "<style scoped>\n",
       "    .dataframe tbody tr th:only-of-type {\n",
       "        vertical-align: middle;\n",
       "    }\n",
       "\n",
       "    .dataframe tbody tr th {\n",
       "        vertical-align: top;\n",
       "    }\n",
       "\n",
       "    .dataframe thead th {\n",
       "        text-align: right;\n",
       "    }\n",
       "</style>\n",
       "<table border=\"1\" class=\"dataframe\">\n",
       "  <thead>\n",
       "    <tr style=\"text-align: right;\">\n",
       "      <th></th>\n",
       "      <th></th>\n",
       "      <th>Label_Dislike</th>\n",
       "      <th>Label_Like</th>\n",
       "    </tr>\n",
       "  </thead>\n",
       "  <tbody>\n",
       "    <tr>\n",
       "      <th rowspan=\"5\" valign=\"top\">respondent_1</th>\n",
       "      <th>trailer_1</th>\n",
       "      <td>0</td>\n",
       "      <td>1</td>\n",
       "    </tr>\n",
       "    <tr>\n",
       "      <th>trailer_2</th>\n",
       "      <td>1</td>\n",
       "      <td>0</td>\n",
       "    </tr>\n",
       "    <tr>\n",
       "      <th>trailer_3</th>\n",
       "      <td>0</td>\n",
       "      <td>1</td>\n",
       "    </tr>\n",
       "    <tr>\n",
       "      <th>trailer_4</th>\n",
       "      <td>1</td>\n",
       "      <td>0</td>\n",
       "    </tr>\n",
       "    <tr>\n",
       "      <th>trailer_5</th>\n",
       "      <td>1</td>\n",
       "      <td>0</td>\n",
       "    </tr>\n",
       "    <tr>\n",
       "      <th>...</th>\n",
       "      <th>...</th>\n",
       "      <td>...</td>\n",
       "      <td>...</td>\n",
       "    </tr>\n",
       "    <tr>\n",
       "      <th rowspan=\"5\" valign=\"top\">respondent_32</th>\n",
       "      <th>trailer_2</th>\n",
       "      <td>1</td>\n",
       "      <td>0</td>\n",
       "    </tr>\n",
       "    <tr>\n",
       "      <th>trailer_3</th>\n",
       "      <td>0</td>\n",
       "      <td>1</td>\n",
       "    </tr>\n",
       "    <tr>\n",
       "      <th>trailer_4</th>\n",
       "      <td>1</td>\n",
       "      <td>0</td>\n",
       "    </tr>\n",
       "    <tr>\n",
       "      <th>trailer_5</th>\n",
       "      <td>0</td>\n",
       "      <td>1</td>\n",
       "    </tr>\n",
       "    <tr>\n",
       "      <th>trailer_6</th>\n",
       "      <td>0</td>\n",
       "      <td>1</td>\n",
       "    </tr>\n",
       "  </tbody>\n",
       "</table>\n",
       "<p>192 rows × 2 columns</p>\n",
       "</div>"
      ],
      "text/plain": [
       "                         Label_Dislike  Label_Like\n",
       "respondent_1  trailer_1              0           1\n",
       "              trailer_2              1           0\n",
       "              trailer_3              0           1\n",
       "              trailer_4              1           0\n",
       "              trailer_5              1           0\n",
       "...                                ...         ...\n",
       "respondent_32 trailer_2              1           0\n",
       "              trailer_3              0           1\n",
       "              trailer_4              1           0\n",
       "              trailer_5              0           1\n",
       "              trailer_6              0           1\n",
       "\n",
       "[192 rows x 2 columns]"
      ]
     },
     "execution_count": 12,
     "metadata": {},
     "output_type": "execute_result"
    }
   ],
   "source": [
    "tmp_labels = pd.get_dummies(tmp_labels)\n",
    "\n",
    "tmp_labels"
   ]
  },
  {
   "cell_type": "code",
   "execution_count": 13,
   "metadata": {},
   "outputs": [
    {
     "name": "stdout",
     "output_type": "stream",
     "text": [
      "shape with nans:  (17376893, 9)\n",
      "shape without nans:  (17376862, 9)\n"
     ]
    }
   ],
   "source": [
    "#sensor_data.groupby(level=[0,1]).apply(lambda x: np.isnan(x.values).sum())\n",
    "print('shape with nans: ', sensor_data.shape)\n",
    "sensor_data.dropna(inplace=True)\n",
    "print('shape without nans: ', sensor_data.shape)"
   ]
  },
  {
   "cell_type": "code",
   "execution_count": 14,
   "metadata": {},
   "outputs": [
    {
     "name": "stdout",
     "output_type": "stream",
     "text": [
      "(32, 6, 15360, 9) (32, 6, 2)\n"
     ]
    }
   ],
   "source": [
    "num_respondents = num_respondents\n",
    "num_trailer = 6\n",
    "num_time = 15360 # 65000\n",
    "num_channels = 9\n",
    "num_labels = 2\n",
    "\n",
    "all_data = np.empty(shape=(num_respondents,num_trailer,num_time,num_channels))\n",
    "all_labels_rating = np.empty(shape=(num_respondents,num_trailer, num_labels))\n",
    "\n",
    "for num_r in range(1,num_respondents+1):\n",
    "    for num_t in range(1,num_trailer+1):\n",
    "        df_ = sensor_data.xs([f'respondent_{num_r}', f'trailer_{num_t}'], level=[0,1]) \n",
    "        label = tmp_labels.xs([f'respondent_{num_r}', f'trailer_{num_t}'], level=[0,1]) \n",
    "        all_data[num_r-1, num_t-1] = df_.values[:num_time]\n",
    "        all_labels_rating[num_r-1, num_t-1] = label.values\n",
    "\n",
    "print(all_data.shape, all_labels_rating.shape)"
   ]
  },
  {
   "cell_type": "code",
   "execution_count": 15,
   "metadata": {},
   "outputs": [],
   "source": [
    "all_labels_rating = np.vstack(all_labels_rating)"
   ]
  },
  {
   "cell_type": "markdown",
   "metadata": {},
   "source": [
    "# Conv1D"
   ]
  },
  {
   "cell_type": "markdown",
   "metadata": {},
   "source": [
    "## Training LSTM"
   ]
  },
  {
   "cell_type": "code",
   "execution_count": 49,
   "metadata": {},
   "outputs": [
    {
     "name": "stdout",
     "output_type": "stream",
     "text": [
      "Model: \"sequential_30\"\n",
      "_________________________________________________________________\n",
      "Layer (type)                 Output Shape              Param #   \n",
      "=================================================================\n",
      "conv1d_45 (Conv1D)           (None, 15360, 20)         200       \n",
      "_________________________________________________________________\n",
      "dropout_75 (Dropout)         (None, 15360, 20)         0         \n",
      "_________________________________________________________________\n",
      "max_pooling1d_45 (MaxPooling (None, 7680, 20)          0         \n",
      "_________________________________________________________________\n",
      "conv1d_46 (Conv1D)           (None, 7678, 40)          2440      \n",
      "_________________________________________________________________\n",
      "max_pooling1d_46 (MaxPooling (None, 3839, 40)          0         \n",
      "_________________________________________________________________\n",
      "dropout_76 (Dropout)         (None, 3839, 40)          0         \n",
      "_________________________________________________________________\n",
      "flatten_30 (Flatten)         (None, 153560)            0         \n",
      "_________________________________________________________________\n",
      "dense_60 (Dense)             (None, 50)                7678050   \n",
      "_________________________________________________________________\n",
      "dropout_77 (Dropout)         (None, 50)                0         \n",
      "_________________________________________________________________\n",
      "dense_61 (Dense)             (None, 1)                 51        \n",
      "=================================================================\n",
      "Total params: 7,680,741\n",
      "Trainable params: 7,680,741\n",
      "Non-trainable params: 0\n",
      "_________________________________________________________________\n"
     ]
    }
   ],
   "source": [
    "model = conv()\n",
    "model.summary()"
   ]
  },
  {
   "cell_type": "code",
   "execution_count": 16,
   "metadata": {},
   "outputs": [
    {
     "data": {
      "text/plain": [
       "{0: 1.92, 1: 0.676056338028169}"
      ]
     },
     "execution_count": 16,
     "metadata": {},
     "output_type": "execute_result"
    }
   ],
   "source": [
    "np.argmax(all_labels_rating, axis=1)\n",
    "\n",
    "from sklearn.utils import compute_class_weight\n",
    "\n",
    "classWeight = compute_class_weight('balanced', np.unique(np.argmax(all_labels_rating, axis=1)\n",
    "), np.argmax(all_labels_rating, axis=1)\n",
    ") \n",
    "classWeight_ratings = dict(enumerate(classWeight))\n",
    "\n",
    "classWeight_ratings"
   ]
  },
  {
   "cell_type": "code",
   "execution_count": 17,
   "metadata": {},
   "outputs": [],
   "source": [
    "from helpers import extract_features_data\n",
    "from keras.wrappers.scikit_learn import KerasClassifier\n",
    "from keras.utils import to_categorical \n",
    "from sklearn.model_selection import cross_val_score\n",
    "from sklearn.model_selection import train_test_split\n",
    "import keras\n",
    "X = all_data.copy()\n",
    "#y = all_labels.copy()\n",
    "\n",
    "X = np.vstack(X)\n",
    "\n",
    "X = filter_data(X)\n",
    "\n",
    "#y = np.vstack(to_categorical(y, num_classes=6, dtype=\"int32\"))\n"
   ]
  },
  {
   "cell_type": "code",
   "execution_count": 18,
   "metadata": {},
   "outputs": [
    {
     "data": {
      "text/plain": [
       "(192, 15360, 9)"
      ]
     },
     "execution_count": 18,
     "metadata": {},
     "output_type": "execute_result"
    }
   ],
   "source": [
    "from mne.decoding import Scaler\n",
    "\n",
    "sc = Scaler(scalings=\"mean\")\n",
    "\n",
    "X_scaled = sc.fit_transform(np.transpose(X, axes = [0,2,1]))\n",
    "\n",
    "X_scaled = np.transpose(X_scaled, axes = [0,2,1])\n",
    "\n",
    "X_scaled.shape"
   ]
  },
  {
   "cell_type": "code",
   "execution_count": 18,
   "metadata": {},
   "outputs": [],
   "source": [
    "X_train, X_test,y_train, y_test = train_test_split(X,all_labels_rating, test_size = 0.1, shuffle = True)\n",
    "\n",
    "\n",
    "X_train, X_val, y_train, y_val = train_test_split(X_train, y_train, test_size=0.1)"
   ]
  },
  {
   "cell_type": "code",
   "execution_count": 19,
   "metadata": {},
   "outputs": [],
   "source": [
    "callback = keras.callbacks.EarlyStopping(monitor = \"val_loss\", patience = 20)\n",
    "\n"
   ]
  },
  {
   "cell_type": "code",
   "execution_count": 44,
   "metadata": {},
   "outputs": [],
   "source": [
    "model = KerasClassifier(conv ,epochs=100, batch_size=60, verbose=0)\n",
    "\n",
    "# class_weight = classWeight_ratings,validation_data = (X_val, y_val)\n",
    "# class_weight=classWeight, callbacks=[callback], validation_data = (X_val, y_val)"
   ]
  },
  {
   "cell_type": "code",
   "execution_count": 25,
   "metadata": {},
   "outputs": [],
   "source": [
    "y_flatten = np.argmax(all_labels_rating, axis= 1)"
   ]
  },
  {
   "cell_type": "code",
   "execution_count": 45,
   "metadata": {
    "scrolled": true
   },
   "outputs": [
    {
     "name": "stdout",
     "output_type": "stream",
     "text": [
      "WARNING:tensorflow:11 out of the last 11 calls to <function Model.make_predict_function.<locals>.predict_function at 0x000001246D8D2A68> triggered tf.function retracing. Tracing is expensive and the excessive number of tracings could be due to (1) creating @tf.function repeatedly in a loop, (2) passing tensors with different shapes, (3) passing Python objects instead of tensors. For (1), please define your @tf.function outside of the loop. For (2), @tf.function has experimental_relax_shapes=True option that relaxes argument shapes that can avoid unnecessary retracing. For (3), please refer to https://www.tensorflow.org/tutorials/customization/performance#python_or_tensor_args and https://www.tensorflow.org/api_docs/python/tf/function for  more details.\n",
      "WARNING:tensorflow:11 out of the last 11 calls to <function Model.make_predict_function.<locals>.predict_function at 0x000001249B405B88> triggered tf.function retracing. Tracing is expensive and the excessive number of tracings could be due to (1) creating @tf.function repeatedly in a loop, (2) passing tensors with different shapes, (3) passing Python objects instead of tensors. For (1), please define your @tf.function outside of the loop. For (2), @tf.function has experimental_relax_shapes=True option that relaxes argument shapes that can avoid unnecessary retracing. For (3), please refer to https://www.tensorflow.org/tutorials/customization/performance#python_or_tensor_args and https://www.tensorflow.org/api_docs/python/tf/function for  more details.\n",
      "WARNING:tensorflow:11 out of the last 11 calls to <function Model.make_predict_function.<locals>.predict_function at 0x000001240874CE58> triggered tf.function retracing. Tracing is expensive and the excessive number of tracings could be due to (1) creating @tf.function repeatedly in a loop, (2) passing tensors with different shapes, (3) passing Python objects instead of tensors. For (1), please define your @tf.function outside of the loop. For (2), @tf.function has experimental_relax_shapes=True option that relaxes argument shapes that can avoid unnecessary retracing. For (3), please refer to https://www.tensorflow.org/tutorials/customization/performance#python_or_tensor_args and https://www.tensorflow.org/api_docs/python/tf/function for  more details.\n",
      "WARNING:tensorflow:11 out of the last 11 calls to <function Model.make_predict_function.<locals>.predict_function at 0x0000012437151948> triggered tf.function retracing. Tracing is expensive and the excessive number of tracings could be due to (1) creating @tf.function repeatedly in a loop, (2) passing tensors with different shapes, (3) passing Python objects instead of tensors. For (1), please define your @tf.function outside of the loop. For (2), @tf.function has experimental_relax_shapes=True option that relaxes argument shapes that can avoid unnecessary retracing. For (3), please refer to https://www.tensorflow.org/tutorials/customization/performance#python_or_tensor_args and https://www.tensorflow.org/api_docs/python/tf/function for  more details.\n",
      "WARNING:tensorflow:11 out of the last 11 calls to <function Model.make_predict_function.<locals>.predict_function at 0x0000012436DB1F78> triggered tf.function retracing. Tracing is expensive and the excessive number of tracings could be due to (1) creating @tf.function repeatedly in a loop, (2) passing tensors with different shapes, (3) passing Python objects instead of tensors. For (1), please define your @tf.function outside of the loop. For (2), @tf.function has experimental_relax_shapes=True option that relaxes argument shapes that can avoid unnecessary retracing. For (3), please refer to https://www.tensorflow.org/tutorials/customization/performance#python_or_tensor_args and https://www.tensorflow.org/api_docs/python/tf/function for  more details.\n"
     ]
    }
   ],
   "source": [
    "from sklearn.model_selection import cross_val_score\n",
    "from sklearn.model_selection import cross_validate\n",
    "\n",
    "scoring = {'acc': 'accuracy',\n",
    "           \"F1\": \"f1\"\n",
    "          }\n",
    "\n",
    "scores = cross_validate(model, X_scaled, y_flatten, cv=5, scoring = scoring, fit_params = {\"class_weight\": classWeight_ratings})"
   ]
  },
  {
   "cell_type": "code",
   "execution_count": 47,
   "metadata": {},
   "outputs": [
    {
     "data": {
      "text/plain": [
       "{'fit_time': array([32.7152369 , 33.0822928 , 33.09768963, 33.92539644, 33.82549763]),\n",
       " 'score_time': array([0.20245767, 0.17722487, 0.20074439, 0.17949104, 0.17356515]),\n",
       " 'test_acc': array([0.69230769, 0.61538462, 0.71052632, 0.81578947, 0.89473684]),\n",
       " 'test_F1': array([0.80645161, 0.74576271, 0.81967213, 0.89552239, 0.93939394])}"
      ]
     },
     "execution_count": 47,
     "metadata": {},
     "output_type": "execute_result"
    }
   ],
   "source": [
    "scores"
   ]
  },
  {
   "cell_type": "code",
   "execution_count": 46,
   "metadata": {},
   "outputs": [
    {
     "data": {
      "text/plain": [
       "0.745748987854251"
      ]
     },
     "execution_count": 46,
     "metadata": {},
     "output_type": "execute_result"
    }
   ],
   "source": [
    "np.mean(scores[\"test_acc\"])"
   ]
  },
  {
   "cell_type": "code",
   "execution_count": 48,
   "metadata": {},
   "outputs": [
    {
     "data": {
      "text/plain": [
       "0.8413605566737627"
      ]
     },
     "execution_count": 48,
     "metadata": {},
     "output_type": "execute_result"
    }
   ],
   "source": [
    "np.mean(scores[\"test_F1\"])"
   ]
  },
  {
   "cell_type": "code",
   "execution_count": 18,
   "metadata": {},
   "outputs": [
    {
     "data": {
      "text/plain": [
       "{'fit_time': array([76.56728458, 72.78822541, 73.71403408, 73.15319777, 73.40411758]),\n",
       " 'score_time': array([0.34551239, 0.21043754, 0.48876929, 0.20548153, 0.21246028]),\n",
       " 'test_acc': array([0.66666667, 0.56410256, 0.71052632, 0.76315789, 0.73684211]),\n",
       " 'test_F1': array([0.77966102, 0.72131148, 0.81355932, 0.86153846, 0.82758621])}"
      ]
     },
     "execution_count": 18,
     "metadata": {},
     "output_type": "execute_result"
    }
   ],
   "source": [
    "scores"
   ]
  },
  {
   "cell_type": "markdown",
   "metadata": {},
   "source": [
    "# With Band Energy Feature Extraction and Ensemble"
   ]
  },
  {
   "cell_type": "code",
   "execution_count": 20,
   "metadata": {},
   "outputs": [],
   "source": [
    "X_features = extract_features_data(X, \"energy_freq_bands\", funcs_params = {\"energy_freq_bands__freq_bands\": np.array([.5, 4, 8, 13, 35])})\n",
    "\n"
   ]
  },
  {
   "cell_type": "code",
   "execution_count": 26,
   "metadata": {},
   "outputs": [
    {
     "data": {
      "text/html": [
       "<div>\n",
       "<style scoped>\n",
       "    .dataframe tbody tr th:only-of-type {\n",
       "        vertical-align: middle;\n",
       "    }\n",
       "\n",
       "    .dataframe tbody tr th {\n",
       "        vertical-align: top;\n",
       "    }\n",
       "\n",
       "    .dataframe thead tr th {\n",
       "        text-align: left;\n",
       "    }\n",
       "</style>\n",
       "<table border=\"1\" class=\"dataframe\">\n",
       "  <thead>\n",
       "    <tr>\n",
       "      <th></th>\n",
       "      <th colspan=\"21\" halign=\"left\">energy_freq_bands</th>\n",
       "    </tr>\n",
       "    <tr>\n",
       "      <th></th>\n",
       "      <th>ch0_band0</th>\n",
       "      <th>ch0_band1</th>\n",
       "      <th>ch0_band2</th>\n",
       "      <th>ch0_band3</th>\n",
       "      <th>ch1_band0</th>\n",
       "      <th>ch1_band1</th>\n",
       "      <th>ch1_band2</th>\n",
       "      <th>ch1_band3</th>\n",
       "      <th>ch2_band0</th>\n",
       "      <th>ch2_band1</th>\n",
       "      <th>...</th>\n",
       "      <th>ch6_band2</th>\n",
       "      <th>ch6_band3</th>\n",
       "      <th>ch7_band0</th>\n",
       "      <th>ch7_band1</th>\n",
       "      <th>ch7_band2</th>\n",
       "      <th>ch7_band3</th>\n",
       "      <th>ch8_band0</th>\n",
       "      <th>ch8_band1</th>\n",
       "      <th>ch8_band2</th>\n",
       "      <th>ch8_band3</th>\n",
       "    </tr>\n",
       "  </thead>\n",
       "  <tbody>\n",
       "    <tr>\n",
       "      <th>0</th>\n",
       "      <td>20854.900171</td>\n",
       "      <td>18699.948940</td>\n",
       "      <td>37863.288041</td>\n",
       "      <td>1.570576e+06</td>\n",
       "      <td>47082.781049</td>\n",
       "      <td>24564.721627</td>\n",
       "      <td>36893.157717</td>\n",
       "      <td>1.822657e+06</td>\n",
       "      <td>31669.123084</td>\n",
       "      <td>19151.409840</td>\n",
       "      <td>...</td>\n",
       "      <td>41183.501242</td>\n",
       "      <td>1.923355e+06</td>\n",
       "      <td>7251.200606</td>\n",
       "      <td>12779.302208</td>\n",
       "      <td>31602.987167</td>\n",
       "      <td>1.432127e+06</td>\n",
       "      <td>21561.554639</td>\n",
       "      <td>13065.654070</td>\n",
       "      <td>29592.629645</td>\n",
       "      <td>1.321403e+06</td>\n",
       "    </tr>\n",
       "    <tr>\n",
       "      <th>1</th>\n",
       "      <td>41688.333526</td>\n",
       "      <td>26635.590427</td>\n",
       "      <td>77009.496668</td>\n",
       "      <td>9.226720e+05</td>\n",
       "      <td>105095.950034</td>\n",
       "      <td>65090.939773</td>\n",
       "      <td>44236.027859</td>\n",
       "      <td>1.065557e+06</td>\n",
       "      <td>47657.955791</td>\n",
       "      <td>23257.710667</td>\n",
       "      <td>...</td>\n",
       "      <td>53337.437743</td>\n",
       "      <td>1.170431e+06</td>\n",
       "      <td>35023.668352</td>\n",
       "      <td>18906.641340</td>\n",
       "      <td>52297.107331</td>\n",
       "      <td>8.164647e+05</td>\n",
       "      <td>29840.751964</td>\n",
       "      <td>14018.061803</td>\n",
       "      <td>38633.204411</td>\n",
       "      <td>6.544255e+05</td>\n",
       "    </tr>\n",
       "    <tr>\n",
       "      <th>2</th>\n",
       "      <td>13822.238137</td>\n",
       "      <td>24934.447349</td>\n",
       "      <td>56345.467423</td>\n",
       "      <td>1.048633e+06</td>\n",
       "      <td>53570.153782</td>\n",
       "      <td>36878.657184</td>\n",
       "      <td>53917.909069</td>\n",
       "      <td>1.191501e+06</td>\n",
       "      <td>16823.336757</td>\n",
       "      <td>22581.194620</td>\n",
       "      <td>...</td>\n",
       "      <td>57941.830619</td>\n",
       "      <td>1.387862e+06</td>\n",
       "      <td>9778.984177</td>\n",
       "      <td>21158.563559</td>\n",
       "      <td>48638.560653</td>\n",
       "      <td>9.420274e+05</td>\n",
       "      <td>8322.654511</td>\n",
       "      <td>15503.096686</td>\n",
       "      <td>39702.357993</td>\n",
       "      <td>8.010054e+05</td>\n",
       "    </tr>\n",
       "    <tr>\n",
       "      <th>3</th>\n",
       "      <td>20226.528125</td>\n",
       "      <td>21705.481564</td>\n",
       "      <td>59224.709309</td>\n",
       "      <td>9.880138e+05</td>\n",
       "      <td>57339.968383</td>\n",
       "      <td>41737.397779</td>\n",
       "      <td>52736.544662</td>\n",
       "      <td>1.153407e+06</td>\n",
       "      <td>25677.923905</td>\n",
       "      <td>25954.706091</td>\n",
       "      <td>...</td>\n",
       "      <td>58868.696025</td>\n",
       "      <td>1.304686e+06</td>\n",
       "      <td>22099.050527</td>\n",
       "      <td>23002.327201</td>\n",
       "      <td>52776.219884</td>\n",
       "      <td>9.070597e+05</td>\n",
       "      <td>14394.670427</td>\n",
       "      <td>16030.521735</td>\n",
       "      <td>37263.294168</td>\n",
       "      <td>7.120677e+05</td>\n",
       "    </tr>\n",
       "    <tr>\n",
       "      <th>4</th>\n",
       "      <td>13798.192998</td>\n",
       "      <td>26215.926823</td>\n",
       "      <td>64301.032986</td>\n",
       "      <td>1.375484e+06</td>\n",
       "      <td>45553.136362</td>\n",
       "      <td>37824.195706</td>\n",
       "      <td>47352.959865</td>\n",
       "      <td>1.562937e+06</td>\n",
       "      <td>16866.222268</td>\n",
       "      <td>24902.926143</td>\n",
       "      <td>...</td>\n",
       "      <td>52828.742912</td>\n",
       "      <td>1.638172e+06</td>\n",
       "      <td>8964.150571</td>\n",
       "      <td>19843.700747</td>\n",
       "      <td>61832.051183</td>\n",
       "      <td>1.542027e+06</td>\n",
       "      <td>8422.777522</td>\n",
       "      <td>19058.385587</td>\n",
       "      <td>52780.146754</td>\n",
       "      <td>1.313025e+06</td>\n",
       "    </tr>\n",
       "    <tr>\n",
       "      <th>...</th>\n",
       "      <td>...</td>\n",
       "      <td>...</td>\n",
       "      <td>...</td>\n",
       "      <td>...</td>\n",
       "      <td>...</td>\n",
       "      <td>...</td>\n",
       "      <td>...</td>\n",
       "      <td>...</td>\n",
       "      <td>...</td>\n",
       "      <td>...</td>\n",
       "      <td>...</td>\n",
       "      <td>...</td>\n",
       "      <td>...</td>\n",
       "      <td>...</td>\n",
       "      <td>...</td>\n",
       "      <td>...</td>\n",
       "      <td>...</td>\n",
       "      <td>...</td>\n",
       "      <td>...</td>\n",
       "      <td>...</td>\n",
       "      <td>...</td>\n",
       "    </tr>\n",
       "    <tr>\n",
       "      <th>187</th>\n",
       "      <td>22583.065257</td>\n",
       "      <td>23196.919956</td>\n",
       "      <td>41982.048586</td>\n",
       "      <td>1.664045e+06</td>\n",
       "      <td>36112.910073</td>\n",
       "      <td>35213.515951</td>\n",
       "      <td>55706.180304</td>\n",
       "      <td>2.230909e+06</td>\n",
       "      <td>30930.688625</td>\n",
       "      <td>29255.447892</td>\n",
       "      <td>...</td>\n",
       "      <td>53790.497397</td>\n",
       "      <td>2.162264e+06</td>\n",
       "      <td>10388.815944</td>\n",
       "      <td>27113.631720</td>\n",
       "      <td>47802.063772</td>\n",
       "      <td>1.061409e+06</td>\n",
       "      <td>20794.797182</td>\n",
       "      <td>17676.880072</td>\n",
       "      <td>35335.900813</td>\n",
       "      <td>1.260185e+06</td>\n",
       "    </tr>\n",
       "    <tr>\n",
       "      <th>188</th>\n",
       "      <td>48018.992709</td>\n",
       "      <td>24125.477391</td>\n",
       "      <td>44535.577689</td>\n",
       "      <td>2.172591e+06</td>\n",
       "      <td>65486.470137</td>\n",
       "      <td>35102.489892</td>\n",
       "      <td>52099.727022</td>\n",
       "      <td>2.859942e+06</td>\n",
       "      <td>69234.394626</td>\n",
       "      <td>33038.087224</td>\n",
       "      <td>...</td>\n",
       "      <td>54787.028077</td>\n",
       "      <td>2.787827e+06</td>\n",
       "      <td>32423.894896</td>\n",
       "      <td>29798.334048</td>\n",
       "      <td>47350.898197</td>\n",
       "      <td>1.411443e+06</td>\n",
       "      <td>43209.044394</td>\n",
       "      <td>22126.283659</td>\n",
       "      <td>43258.030876</td>\n",
       "      <td>1.689357e+06</td>\n",
       "    </tr>\n",
       "    <tr>\n",
       "      <th>189</th>\n",
       "      <td>23286.137194</td>\n",
       "      <td>22164.028872</td>\n",
       "      <td>44698.969896</td>\n",
       "      <td>2.071526e+06</td>\n",
       "      <td>43173.167871</td>\n",
       "      <td>32018.371061</td>\n",
       "      <td>55187.950022</td>\n",
       "      <td>2.716797e+06</td>\n",
       "      <td>34650.698109</td>\n",
       "      <td>28178.631253</td>\n",
       "      <td>...</td>\n",
       "      <td>52149.960110</td>\n",
       "      <td>2.643691e+06</td>\n",
       "      <td>14308.413738</td>\n",
       "      <td>25246.237491</td>\n",
       "      <td>44844.038785</td>\n",
       "      <td>1.362143e+06</td>\n",
       "      <td>16817.462279</td>\n",
       "      <td>19013.748875</td>\n",
       "      <td>39416.675226</td>\n",
       "      <td>1.586419e+06</td>\n",
       "    </tr>\n",
       "    <tr>\n",
       "      <th>190</th>\n",
       "      <td>40577.459824</td>\n",
       "      <td>26485.385049</td>\n",
       "      <td>55620.656241</td>\n",
       "      <td>1.995208e+06</td>\n",
       "      <td>55348.136333</td>\n",
       "      <td>33012.266557</td>\n",
       "      <td>58025.034279</td>\n",
       "      <td>2.617743e+06</td>\n",
       "      <td>52536.125436</td>\n",
       "      <td>33097.758210</td>\n",
       "      <td>...</td>\n",
       "      <td>57990.654838</td>\n",
       "      <td>2.515602e+06</td>\n",
       "      <td>22429.899551</td>\n",
       "      <td>26578.708701</td>\n",
       "      <td>58174.323888</td>\n",
       "      <td>1.297626e+06</td>\n",
       "      <td>33808.429946</td>\n",
       "      <td>24339.692930</td>\n",
       "      <td>49492.151737</td>\n",
       "      <td>1.556864e+06</td>\n",
       "    </tr>\n",
       "    <tr>\n",
       "      <th>191</th>\n",
       "      <td>16009.577517</td>\n",
       "      <td>26894.540752</td>\n",
       "      <td>50913.806488</td>\n",
       "      <td>2.057228e+06</td>\n",
       "      <td>34046.627176</td>\n",
       "      <td>35616.006058</td>\n",
       "      <td>50212.575561</td>\n",
       "      <td>2.636138e+06</td>\n",
       "      <td>28828.863477</td>\n",
       "      <td>32264.228870</td>\n",
       "      <td>...</td>\n",
       "      <td>47381.298604</td>\n",
       "      <td>2.527717e+06</td>\n",
       "      <td>13844.295449</td>\n",
       "      <td>31947.170285</td>\n",
       "      <td>56051.393175</td>\n",
       "      <td>1.330501e+06</td>\n",
       "      <td>15156.387418</td>\n",
       "      <td>21292.790280</td>\n",
       "      <td>40834.444487</td>\n",
       "      <td>1.617367e+06</td>\n",
       "    </tr>\n",
       "  </tbody>\n",
       "</table>\n",
       "<p>192 rows × 36 columns</p>\n",
       "</div>"
      ],
      "text/plain": [
       "    energy_freq_bands                                            \\\n",
       "            ch0_band0     ch0_band1     ch0_band2     ch0_band3   \n",
       "0        20854.900171  18699.948940  37863.288041  1.570576e+06   \n",
       "1        41688.333526  26635.590427  77009.496668  9.226720e+05   \n",
       "2        13822.238137  24934.447349  56345.467423  1.048633e+06   \n",
       "3        20226.528125  21705.481564  59224.709309  9.880138e+05   \n",
       "4        13798.192998  26215.926823  64301.032986  1.375484e+06   \n",
       "..                ...           ...           ...           ...   \n",
       "187      22583.065257  23196.919956  41982.048586  1.664045e+06   \n",
       "188      48018.992709  24125.477391  44535.577689  2.172591e+06   \n",
       "189      23286.137194  22164.028872  44698.969896  2.071526e+06   \n",
       "190      40577.459824  26485.385049  55620.656241  1.995208e+06   \n",
       "191      16009.577517  26894.540752  50913.806488  2.057228e+06   \n",
       "\n",
       "                                                                            \\\n",
       "         ch1_band0     ch1_band1     ch1_band2     ch1_band3     ch2_band0   \n",
       "0     47082.781049  24564.721627  36893.157717  1.822657e+06  31669.123084   \n",
       "1    105095.950034  65090.939773  44236.027859  1.065557e+06  47657.955791   \n",
       "2     53570.153782  36878.657184  53917.909069  1.191501e+06  16823.336757   \n",
       "3     57339.968383  41737.397779  52736.544662  1.153407e+06  25677.923905   \n",
       "4     45553.136362  37824.195706  47352.959865  1.562937e+06  16866.222268   \n",
       "..             ...           ...           ...           ...           ...   \n",
       "187   36112.910073  35213.515951  55706.180304  2.230909e+06  30930.688625   \n",
       "188   65486.470137  35102.489892  52099.727022  2.859942e+06  69234.394626   \n",
       "189   43173.167871  32018.371061  55187.950022  2.716797e+06  34650.698109   \n",
       "190   55348.136333  33012.266557  58025.034279  2.617743e+06  52536.125436   \n",
       "191   34046.627176  35616.006058  50212.575561  2.636138e+06  28828.863477   \n",
       "\n",
       "                   ...                                            \\\n",
       "        ch2_band1  ...     ch6_band2     ch6_band3     ch7_band0   \n",
       "0    19151.409840  ...  41183.501242  1.923355e+06   7251.200606   \n",
       "1    23257.710667  ...  53337.437743  1.170431e+06  35023.668352   \n",
       "2    22581.194620  ...  57941.830619  1.387862e+06   9778.984177   \n",
       "3    25954.706091  ...  58868.696025  1.304686e+06  22099.050527   \n",
       "4    24902.926143  ...  52828.742912  1.638172e+06   8964.150571   \n",
       "..            ...  ...           ...           ...           ...   \n",
       "187  29255.447892  ...  53790.497397  2.162264e+06  10388.815944   \n",
       "188  33038.087224  ...  54787.028077  2.787827e+06  32423.894896   \n",
       "189  28178.631253  ...  52149.960110  2.643691e+06  14308.413738   \n",
       "190  33097.758210  ...  57990.654838  2.515602e+06  22429.899551   \n",
       "191  32264.228870  ...  47381.298604  2.527717e+06  13844.295449   \n",
       "\n",
       "                                                                           \\\n",
       "        ch7_band1     ch7_band2     ch7_band3     ch8_band0     ch8_band1   \n",
       "0    12779.302208  31602.987167  1.432127e+06  21561.554639  13065.654070   \n",
       "1    18906.641340  52297.107331  8.164647e+05  29840.751964  14018.061803   \n",
       "2    21158.563559  48638.560653  9.420274e+05   8322.654511  15503.096686   \n",
       "3    23002.327201  52776.219884  9.070597e+05  14394.670427  16030.521735   \n",
       "4    19843.700747  61832.051183  1.542027e+06   8422.777522  19058.385587   \n",
       "..            ...           ...           ...           ...           ...   \n",
       "187  27113.631720  47802.063772  1.061409e+06  20794.797182  17676.880072   \n",
       "188  29798.334048  47350.898197  1.411443e+06  43209.044394  22126.283659   \n",
       "189  25246.237491  44844.038785  1.362143e+06  16817.462279  19013.748875   \n",
       "190  26578.708701  58174.323888  1.297626e+06  33808.429946  24339.692930   \n",
       "191  31947.170285  56051.393175  1.330501e+06  15156.387418  21292.790280   \n",
       "\n",
       "                                 \n",
       "        ch8_band2     ch8_band3  \n",
       "0    29592.629645  1.321403e+06  \n",
       "1    38633.204411  6.544255e+05  \n",
       "2    39702.357993  8.010054e+05  \n",
       "3    37263.294168  7.120677e+05  \n",
       "4    52780.146754  1.313025e+06  \n",
       "..            ...           ...  \n",
       "187  35335.900813  1.260185e+06  \n",
       "188  43258.030876  1.689357e+06  \n",
       "189  39416.675226  1.586419e+06  \n",
       "190  49492.151737  1.556864e+06  \n",
       "191  40834.444487  1.617367e+06  \n",
       "\n",
       "[192 rows x 36 columns]"
      ]
     },
     "execution_count": 26,
     "metadata": {},
     "output_type": "execute_result"
    }
   ],
   "source": [
    "X_features"
   ]
  },
  {
   "cell_type": "code",
   "execution_count": 21,
   "metadata": {},
   "outputs": [],
   "source": [
    "from sklearn.ensemble import VotingClassifier\n",
    "from sklearn.ensemble import RandomForestClassifier\n",
    "from sklearn.linear_model import LogisticRegression\n",
    "from sklearn.svm import SVC\n",
    "\n",
    "clf1 = RandomForestClassifier(class_weight=classWeight_ratings)\n",
    "clf2 = LogisticRegression(class_weight=classWeight_ratings, max_iter=10000)\n",
    "clf3 = SVC(probability=True, class_weight= classWeight_ratings)\n",
    "\n",
    "\n",
    "\n",
    "\n",
    "voting_clf = VotingClassifier(estimators = [(\"rf\",clf1), (\"LogReg\",clf2), (\"SVC\",clf3)], voting=\"soft\")\n",
    "\n",
    "\n",
    "scores_ensemble = cross_validate(voting_clf, X_features, y_flatten, cv=5, scoring = scoring)"
   ]
  },
  {
   "cell_type": "code",
   "execution_count": 25,
   "metadata": {},
   "outputs": [
    {
     "data": {
      "text/plain": [
       "0.6354925775978407"
      ]
     },
     "execution_count": 25,
     "metadata": {},
     "output_type": "execute_result"
    }
   ],
   "source": [
    "np.mean(scores_ensemble[\"test_acc\"])"
   ]
  },
  {
   "cell_type": "markdown",
   "metadata": {},
   "source": [
    "# RNN with Leave-one-out Cross-Validation"
   ]
  },
  {
   "cell_type": "code",
   "execution_count": null,
   "metadata": {
    "scrolled": false
   },
   "outputs": [],
   "source": [
    "if False:    \n",
    "    from sklearn.preprocessing import StandardScaler\n",
    "    from keras.wrappers.scikit_learn import KerasClassifier\n",
    "    from keras.utils import to_categorical \n",
    "\n",
    "    model = KerasClassifier(model1, epochs=20, batch_size=30, verbose=1)\n",
    "    for i in range(all_data.shape[0]):\n",
    "\n",
    "        X_train = all_data.copy()\n",
    "        y_train = all_labels.copy()\n",
    "\n",
    "\n",
    "\n",
    "        X_test = X_train[i].copy()\n",
    "        y_test = y_train[i].copy()\n",
    "\n",
    "        X_train = np.delete(X_train, i, axis=0)\n",
    "        y_train = np.delete(y_train, i, axis=0)\n",
    "\n",
    "\n",
    "\n",
    "        X_train = np.vstack(X_train)\n",
    "\n",
    "        X_train = filter_data(X_train)\n",
    "        X_test = filter_data(X_test)\n",
    "\n",
    "        scalers = {}\n",
    "        for i in range(X_train.shape[2]):\n",
    "            scalers[i] = StandardScaler()\n",
    "            X_train[:, :, i] = scalers[i].fit_transform(X_train[:, :, i])\n",
    "\n",
    "        for i in range(X_test.shape[2]):\n",
    "            X_test[:, :, i] = scalers[i].transform(X_test[:, :, i])     \n",
    "\n",
    "        y_test = to_categorical(y_test, num_classes = 6, dtype=\"int32\")\n",
    "        y_train = np.vstack(to_categorical(y_train, num_classes=6, dtype=\"int32\"))\n",
    "\n",
    "\n",
    "        model.fit(X_train, y_train, validation_data=(X_test, y_test), shuffle=True, use_multiprocessing=True)\n",
    "\n",
    "        print(f'model score: {model.score(X_test, y_test)}')"
   ]
  }
 ],
 "metadata": {
  "kernelspec": {
   "display_name": "Python 3",
   "language": "python",
   "name": "python3"
  },
  "language_info": {
   "codemirror_mode": {
    "name": "ipython",
    "version": 3
   },
   "file_extension": ".py",
   "mimetype": "text/x-python",
   "name": "python",
   "nbconvert_exporter": "python",
   "pygments_lexer": "ipython3",
   "version": "3.7.7"
  }
 },
 "nbformat": 4,
 "nbformat_minor": 4
}
